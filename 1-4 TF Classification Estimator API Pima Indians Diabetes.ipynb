{
 "cells": [
  {
   "cell_type": "markdown",
   "metadata": {},
   "source": [
    "## Dataset\n",
    "\n",
    "https://archive.ics.uci.edu/ml/datasets/pima+indians+diabetes\n",
    "\n",
    "1. Title: Pima Indians Diabetes Database\n",
    "\n",
    "2. Sources:\n",
    "   (a) Original owners: National Institute of Diabetes and Digestive and\n",
    "                        Kidney Diseases\n",
    "   (b) Donor of database: Vincent Sigillito (vgs@aplcen.apl.jhu.edu)\n",
    "                          Research Center, RMI Group Leader\n",
    "                          Applied Physics Laboratory\n",
    "                          The Johns Hopkins University\n",
    "                          Johns Hopkins Road\n",
    "                          Laurel, MD 20707\n",
    "                          (301) 953-6231\n",
    "   (c) Date received: 9 May 1990\n",
    "\n",
    "3. Past Usage:\n",
    "    1. Smith,~J.~W., Everhart,~J.~E., Dickson,~W.~C., Knowler,~W.~C., \\&\n",
    "       Johannes,~R.~S. (1988). Using the ADAP learning algorithm to forecast\n",
    "       the onset of diabetes mellitus.  In {\\it Proceedings of the Symposium\n",
    "       on Computer Applications and Medical Care} (pp. 261--265).  IEEE\n",
    "       Computer Society Press.\n",
    "\n",
    "       The diagnostic, binary-valued variable investigated is whether the\n",
    "       patient shows signs of diabetes according to World Health Organization\n",
    "       criteria (i.e., if the 2 hour post-load plasma glucose was at least \n",
    "       200 mg/dl at any survey  examination or if found during routine medical\n",
    "       care).   The population lives near Phoenix, Arizona, USA.\n",
    "\n",
    "       Results: Their ADAP algorithm makes a real-valued prediction between\n",
    "       0 and 1.  This was transformed into a binary decision using a cutoff of \n",
    "       0.448.  Using 576 training instances, the sensitivity and specificity\n",
    "       of their algorithm was 76% on the remaining 192 instances.\n",
    "\n",
    "4. Relevant Information:\n",
    "      Several constraints were placed on the selection of these instances from\n",
    "      a larger database.  In particular, all patients here are females at\n",
    "      least 21 years old of Pima Indian heritage.  ADAP is an adaptive learning\n",
    "      routine that generates and executes digital analogs of perceptron-like\n",
    "      devices.  It is a unique algorithm; see the paper for details.\n",
    "\n",
    "5. Number of Instances: 768\n",
    "\n",
    "6. Number of Attributes: 8 plus class \n",
    "\n",
    "    7. For Each Attribute: (all numeric-valued)\n",
    "       1. Number of times pregnant\n",
    "       2. Plasma glucose concentration a 2 hours in an oral glucose tolerance test\n",
    "       3. Diastolic blood pressure (mm Hg)\n",
    "       4. Triceps skin fold thickness (mm)\n",
    "       5. 2-Hour serum insulin (mu U/ml)\n",
    "       6. Body mass index (weight in kg/(height in m)^2)\n",
    "       7. Diabetes pedigree function\n",
    "       8. Age (years)\n",
    "       9. Class variable (0 or 1)\n",
    "\n",
    "8. Missing Attribute Values: Yes\n",
    "\n",
    "9. Class Distribution: (class value 1 is interpreted as \"tested positive for\n",
    "   diabetes\")\n",
    "\n",
    "   Class Value  Number of instances\n",
    "   0            500\n",
    "   1            268\n",
    "\n",
    "10. Brief statistical analysis:\n",
    "\n",
    "        Attribute number:    Mean:   Standard Deviation:\n",
    "        1.                     3.8     3.4\n",
    "        2.                   120.9    32.0\n",
    "        3.                    69.1    19.4\n",
    "        4.                    20.5    16.0\n",
    "        5.                    79.8   115.2\n",
    "        6.                    32.0     7.9\n",
    "        7.                     0.5     0.3\n",
    "        8.                    33.2    11.8"
   ]
  },
  {
   "cell_type": "markdown",
   "metadata": {},
   "source": [
    "# Some required packages"
   ]
  },
  {
   "cell_type": "code",
   "execution_count": 1,
   "metadata": {
    "collapsed": true
   },
   "outputs": [],
   "source": [
    "import matplotlib.pyplot as plt\n",
    "import pandas as pd\n",
    "import numpy as np\n",
    "\n",
    "%matplotlib inline"
   ]
  },
  {
   "cell_type": "markdown",
   "metadata": {},
   "source": [
    "# Load dataset"
   ]
  },
  {
   "cell_type": "code",
   "execution_count": 2,
   "metadata": {},
   "outputs": [
    {
     "data": {
      "text/html": [
       "<div>\n",
       "<style>\n",
       "    .dataframe thead tr:only-child th {\n",
       "        text-align: right;\n",
       "    }\n",
       "\n",
       "    .dataframe thead th {\n",
       "        text-align: left;\n",
       "    }\n",
       "\n",
       "    .dataframe tbody tr th {\n",
       "        vertical-align: top;\n",
       "    }\n",
       "</style>\n",
       "<table border=\"1\" class=\"dataframe\">\n",
       "  <thead>\n",
       "    <tr style=\"text-align: right;\">\n",
       "      <th></th>\n",
       "      <th>6</th>\n",
       "      <th>148</th>\n",
       "      <th>72</th>\n",
       "      <th>35</th>\n",
       "      <th>0</th>\n",
       "      <th>33.6</th>\n",
       "      <th>0.627</th>\n",
       "      <th>50</th>\n",
       "      <th>1</th>\n",
       "    </tr>\n",
       "  </thead>\n",
       "  <tbody>\n",
       "    <tr>\n",
       "      <th>0</th>\n",
       "      <td>1</td>\n",
       "      <td>85</td>\n",
       "      <td>66</td>\n",
       "      <td>29</td>\n",
       "      <td>0</td>\n",
       "      <td>26.6</td>\n",
       "      <td>0.351</td>\n",
       "      <td>31</td>\n",
       "      <td>0</td>\n",
       "    </tr>\n",
       "    <tr>\n",
       "      <th>1</th>\n",
       "      <td>8</td>\n",
       "      <td>183</td>\n",
       "      <td>64</td>\n",
       "      <td>0</td>\n",
       "      <td>0</td>\n",
       "      <td>23.3</td>\n",
       "      <td>0.672</td>\n",
       "      <td>32</td>\n",
       "      <td>1</td>\n",
       "    </tr>\n",
       "    <tr>\n",
       "      <th>2</th>\n",
       "      <td>1</td>\n",
       "      <td>89</td>\n",
       "      <td>66</td>\n",
       "      <td>23</td>\n",
       "      <td>94</td>\n",
       "      <td>28.1</td>\n",
       "      <td>0.167</td>\n",
       "      <td>21</td>\n",
       "      <td>0</td>\n",
       "    </tr>\n",
       "  </tbody>\n",
       "</table>\n",
       "</div>"
      ],
      "text/plain": [
       "   6  148  72  35   0  33.6  0.627  50  1\n",
       "0  1   85  66  29   0  26.6  0.351  31  0\n",
       "1  8  183  64   0   0  23.3  0.672  32  1\n",
       "2  1   89  66  23  94  28.1  0.167  21  0"
      ]
     },
     "execution_count": 2,
     "metadata": {},
     "output_type": "execute_result"
    }
   ],
   "source": [
    "data = pd.read_csv('./dataset/pima-indians-diabetes.csv')\n",
    "data.head(3)"
   ]
  },
  {
   "cell_type": "markdown",
   "metadata": {},
   "source": [
    "### Add names to columns"
   ]
  },
  {
   "cell_type": "code",
   "execution_count": 3,
   "metadata": {
    "collapsed": true
   },
   "outputs": [],
   "source": [
    "columns = [\n",
    "    'number_pregnant', \n",
    "    'glucose_concentration', \n",
    "    'blood_pressure', \n",
    "    'triceps', \n",
    "    'insulin', \n",
    "    'bmi', \n",
    "    'pedigree', \n",
    "    'age', \n",
    "    'class'\n",
    "]"
   ]
  },
  {
   "cell_type": "code",
   "execution_count": 4,
   "metadata": {
    "collapsed": true
   },
   "outputs": [],
   "source": [
    "data.columns = columns"
   ]
  },
  {
   "cell_type": "code",
   "execution_count": 5,
   "metadata": {},
   "outputs": [
    {
     "data": {
      "text/html": [
       "<div>\n",
       "<style>\n",
       "    .dataframe thead tr:only-child th {\n",
       "        text-align: right;\n",
       "    }\n",
       "\n",
       "    .dataframe thead th {\n",
       "        text-align: left;\n",
       "    }\n",
       "\n",
       "    .dataframe tbody tr th {\n",
       "        vertical-align: top;\n",
       "    }\n",
       "</style>\n",
       "<table border=\"1\" class=\"dataframe\">\n",
       "  <thead>\n",
       "    <tr style=\"text-align: right;\">\n",
       "      <th></th>\n",
       "      <th>number_pregnant</th>\n",
       "      <th>glucose_concentration</th>\n",
       "      <th>blood_pressure</th>\n",
       "      <th>triceps</th>\n",
       "      <th>insulin</th>\n",
       "      <th>bmi</th>\n",
       "      <th>pedigree</th>\n",
       "      <th>age</th>\n",
       "      <th>class</th>\n",
       "    </tr>\n",
       "  </thead>\n",
       "  <tbody>\n",
       "    <tr>\n",
       "      <th>0</th>\n",
       "      <td>1</td>\n",
       "      <td>85</td>\n",
       "      <td>66</td>\n",
       "      <td>29</td>\n",
       "      <td>0</td>\n",
       "      <td>26.6</td>\n",
       "      <td>0.351</td>\n",
       "      <td>31</td>\n",
       "      <td>0</td>\n",
       "    </tr>\n",
       "    <tr>\n",
       "      <th>1</th>\n",
       "      <td>8</td>\n",
       "      <td>183</td>\n",
       "      <td>64</td>\n",
       "      <td>0</td>\n",
       "      <td>0</td>\n",
       "      <td>23.3</td>\n",
       "      <td>0.672</td>\n",
       "      <td>32</td>\n",
       "      <td>1</td>\n",
       "    </tr>\n",
       "    <tr>\n",
       "      <th>2</th>\n",
       "      <td>1</td>\n",
       "      <td>89</td>\n",
       "      <td>66</td>\n",
       "      <td>23</td>\n",
       "      <td>94</td>\n",
       "      <td>28.1</td>\n",
       "      <td>0.167</td>\n",
       "      <td>21</td>\n",
       "      <td>0</td>\n",
       "    </tr>\n",
       "    <tr>\n",
       "      <th>3</th>\n",
       "      <td>0</td>\n",
       "      <td>137</td>\n",
       "      <td>40</td>\n",
       "      <td>35</td>\n",
       "      <td>168</td>\n",
       "      <td>43.1</td>\n",
       "      <td>2.288</td>\n",
       "      <td>33</td>\n",
       "      <td>1</td>\n",
       "    </tr>\n",
       "    <tr>\n",
       "      <th>4</th>\n",
       "      <td>5</td>\n",
       "      <td>116</td>\n",
       "      <td>74</td>\n",
       "      <td>0</td>\n",
       "      <td>0</td>\n",
       "      <td>25.6</td>\n",
       "      <td>0.201</td>\n",
       "      <td>30</td>\n",
       "      <td>0</td>\n",
       "    </tr>\n",
       "  </tbody>\n",
       "</table>\n",
       "</div>"
      ],
      "text/plain": [
       "   number_pregnant  glucose_concentration  blood_pressure  triceps  insulin  \\\n",
       "0                1                     85              66       29        0   \n",
       "1                8                    183              64        0        0   \n",
       "2                1                     89              66       23       94   \n",
       "3                0                    137              40       35      168   \n",
       "4                5                    116              74        0        0   \n",
       "\n",
       "    bmi  pedigree  age  class  \n",
       "0  26.6     0.351   31      0  \n",
       "1  23.3     0.672   32      1  \n",
       "2  28.1     0.167   21      0  \n",
       "3  43.1     2.288   33      1  \n",
       "4  25.6     0.201   30      0  "
      ]
     },
     "execution_count": 5,
     "metadata": {},
     "output_type": "execute_result"
    }
   ],
   "source": [
    "data.head()"
   ]
  },
  {
   "cell_type": "markdown",
   "metadata": {},
   "source": [
    "# Split features and labels"
   ]
  },
  {
   "cell_type": "code",
   "execution_count": 6,
   "metadata": {
    "collapsed": true
   },
   "outputs": [],
   "source": [
    "labels = data['class'].as_matrix().astype(np.int32)\n",
    "feat_data = data.drop('class', axis=1).as_matrix().astype(np.float32)"
   ]
  },
  {
   "cell_type": "markdown",
   "metadata": {},
   "source": [
    "## One-hot encoding"
   ]
  },
  {
   "cell_type": "code",
   "execution_count": 7,
   "metadata": {
    "collapsed": true
   },
   "outputs": [],
   "source": [
    "# labels = np.zeros((label_data.shape[0], len(set(label_data))))"
   ]
  },
  {
   "cell_type": "code",
   "execution_count": 8,
   "metadata": {
    "collapsed": true
   },
   "outputs": [],
   "source": [
    "# for i in range(labels.shape[0]):\n",
    "#     labels[i, label_data[i]] = 1"
   ]
  },
  {
   "cell_type": "markdown",
   "metadata": {},
   "source": [
    "# Split train test"
   ]
  },
  {
   "cell_type": "code",
   "execution_count": 9,
   "metadata": {
    "collapsed": true
   },
   "outputs": [],
   "source": [
    "from sklearn.model_selection import train_test_split"
   ]
  },
  {
   "cell_type": "code",
   "execution_count": 10,
   "metadata": {
    "collapsed": true
   },
   "outputs": [],
   "source": [
    "X_train, X_test, y_train, y_test = train_test_split(\n",
    "    feat_data,\n",
    "    labels,\n",
    "    test_size=0.3,\n",
    "    random_state=77\n",
    ")"
   ]
  },
  {
   "cell_type": "markdown",
   "metadata": {},
   "source": [
    "# Scale the data"
   ]
  },
  {
   "cell_type": "code",
   "execution_count": 11,
   "metadata": {
    "collapsed": true
   },
   "outputs": [],
   "source": [
    "from sklearn.preprocessing import MinMaxScaler"
   ]
  },
  {
   "cell_type": "code",
   "execution_count": 12,
   "metadata": {
    "collapsed": true
   },
   "outputs": [],
   "source": [
    "scaler = MinMaxScaler()"
   ]
  },
  {
   "cell_type": "code",
   "execution_count": 13,
   "metadata": {
    "collapsed": true
   },
   "outputs": [],
   "source": [
    "scaled_x_train = scaler.fit_transform(X_train)"
   ]
  },
  {
   "cell_type": "code",
   "execution_count": 14,
   "metadata": {
    "collapsed": true
   },
   "outputs": [],
   "source": [
    "scaled_x_test = scaler.transform(X_test)"
   ]
  },
  {
   "cell_type": "markdown",
   "metadata": {},
   "source": [
    "## Estimator API"
   ]
  },
  {
   "cell_type": "markdown",
   "metadata": {},
   "source": [
    "https://www.tensorflow.org/extend/estimators"
   ]
  },
  {
   "cell_type": "code",
   "execution_count": 15,
   "metadata": {
    "collapsed": true
   },
   "outputs": [],
   "source": [
    "import tensorflow as tf\n",
    "from tensorflow import estimator"
   ]
  },
  {
   "cell_type": "markdown",
   "metadata": {},
   "source": [
    "# Feature columns"
   ]
  },
  {
   "cell_type": "code",
   "execution_count": 16,
   "metadata": {
    "collapsed": true
   },
   "outputs": [],
   "source": [
    "number_pregnant = tf.feature_column.numeric_column('number_pregnant')\n",
    "glucose_concentration = tf.feature_column.numeric_column('glucose_concentration')\n",
    "blood_pressure = tf.feature_column.numeric_column('blood_pressure')\n",
    "triceps = tf.feature_column.numeric_column('triceps')\n",
    "insulin = tf.feature_column.numeric_column('insulin')\n",
    "bmi = tf.feature_column.numeric_column('bmi')\n",
    "pedigree = tf.feature_column.numeric_column('pedigree')\n",
    "age = tf.feature_column.numeric_column('age')"
   ]
  },
  {
   "cell_type": "code",
   "execution_count": 17,
   "metadata": {
    "collapsed": true
   },
   "outputs": [],
   "source": [
    "feat_cols = [\n",
    "    number_pregnant, glucose_concentration, blood_pressure, triceps, insulin, bmi, pedigree, age\n",
    "]\n",
    "# feat_cols = [tf.feature_column.numeric_column('x', shape=[8])]"
   ]
  },
  {
   "cell_type": "markdown",
   "metadata": {},
   "source": [
    "# Create the model"
   ]
  },
  {
   "cell_type": "code",
   "execution_count": 18,
   "metadata": {},
   "outputs": [
    {
     "name": "stdout",
     "output_type": "stream",
     "text": [
      "INFO:tensorflow:Using default config.\n",
      "WARNING:tensorflow:Using temporary folder as model directory: /var/folders/0v/n6r9lhbj7wq6yb1s86xg7_pm0000gn/T/tmpdnb9dea2\n",
      "INFO:tensorflow:Using config: {'_model_dir': '/var/folders/0v/n6r9lhbj7wq6yb1s86xg7_pm0000gn/T/tmpdnb9dea2', '_tf_random_seed': 1, '_save_summary_steps': 100, '_save_checkpoints_secs': 600, '_save_checkpoints_steps': None, '_session_config': None, '_keep_checkpoint_max': 5, '_keep_checkpoint_every_n_hours': 10000, '_log_step_count_steps': 100}\n"
     ]
    }
   ],
   "source": [
    "model = estimator.DNNClassifier(\n",
    "    hidden_units=[13, 10, 13],\n",
    "    feature_columns=feat_cols,\n",
    "    n_classes=2,\n",
    "    optimizer=tf.train.AdamOptimizer(learning_rate=0.001) \n",
    ")"
   ]
  },
  {
   "cell_type": "markdown",
   "metadata": {},
   "source": [
    "# Training"
   ]
  },
  {
   "cell_type": "code",
   "execution_count": 19,
   "metadata": {
    "collapsed": true
   },
   "outputs": [],
   "source": [
    "input_fn = estimator.inputs.numpy_input_fn(\n",
    "    x={\n",
    "        'number_pregnant': scaled_x_train[:, 0],\n",
    "        'glucose_concentration': scaled_x_train[:, 1],\n",
    "        'blood_pressure': scaled_x_train[:, 2],\n",
    "        'triceps': scaled_x_train[:, 3],\n",
    "        'insulin': scaled_x_train[:, 4],\n",
    "        'bmi': scaled_x_train[:, 5],\n",
    "        'pedigree': scaled_x_train[:, 6],\n",
    "        'age': scaled_x_train[:, 7],\n",
    "    }, \n",
    "    y=y_train, \n",
    "    batch_size=2, \n",
    "    num_epochs=1000, \n",
    "    shuffle=True\n",
    ")"
   ]
  },
  {
   "cell_type": "code",
   "execution_count": 20,
   "metadata": {},
   "outputs": [
    {
     "name": "stdout",
     "output_type": "stream",
     "text": [
      "INFO:tensorflow:Create CheckpointSaverHook.\n",
      "INFO:tensorflow:Saving checkpoints for 1 into /var/folders/0v/n6r9lhbj7wq6yb1s86xg7_pm0000gn/T/tmpdnb9dea2/model.ckpt.\n",
      "INFO:tensorflow:loss = 1.47869, step = 1\n",
      "INFO:tensorflow:global_step/sec: 374.334\n",
      "INFO:tensorflow:loss = 1.37445, step = 101 (0.268 sec)\n",
      "INFO:tensorflow:global_step/sec: 480.286\n",
      "INFO:tensorflow:loss = 1.3852, step = 201 (0.208 sec)\n",
      "INFO:tensorflow:global_step/sec: 465.763\n",
      "INFO:tensorflow:loss = 1.46687, step = 301 (0.215 sec)\n",
      "INFO:tensorflow:global_step/sec: 387.92\n",
      "INFO:tensorflow:loss = 0.893895, step = 401 (0.258 sec)\n",
      "INFO:tensorflow:global_step/sec: 446.991\n",
      "INFO:tensorflow:loss = 1.43666, step = 501 (0.224 sec)\n",
      "INFO:tensorflow:global_step/sec: 432.545\n",
      "INFO:tensorflow:loss = 1.47804, step = 601 (0.231 sec)\n",
      "INFO:tensorflow:global_step/sec: 414.654\n",
      "INFO:tensorflow:loss = 0.945974, step = 701 (0.242 sec)\n",
      "INFO:tensorflow:global_step/sec: 452.458\n",
      "INFO:tensorflow:loss = 0.878536, step = 801 (0.220 sec)\n",
      "INFO:tensorflow:global_step/sec: 440.855\n",
      "INFO:tensorflow:loss = 1.26624, step = 901 (0.227 sec)\n",
      "INFO:tensorflow:global_step/sec: 422.094\n",
      "INFO:tensorflow:loss = 1.68517, step = 1001 (0.237 sec)\n",
      "INFO:tensorflow:global_step/sec: 427.91\n",
      "INFO:tensorflow:loss = 1.65756, step = 1101 (0.233 sec)\n",
      "INFO:tensorflow:global_step/sec: 423.03\n",
      "INFO:tensorflow:loss = 1.07845, step = 1201 (0.236 sec)\n",
      "INFO:tensorflow:global_step/sec: 414.166\n",
      "INFO:tensorflow:loss = 0.606227, step = 1301 (0.242 sec)\n",
      "INFO:tensorflow:global_step/sec: 442.178\n",
      "INFO:tensorflow:loss = 0.43925, step = 1401 (0.226 sec)\n",
      "INFO:tensorflow:global_step/sec: 466.505\n",
      "INFO:tensorflow:loss = 0.434227, step = 1501 (0.214 sec)\n",
      "INFO:tensorflow:global_step/sec: 419.196\n",
      "INFO:tensorflow:loss = 1.6185, step = 1601 (0.239 sec)\n",
      "INFO:tensorflow:global_step/sec: 417.142\n",
      "INFO:tensorflow:loss = 1.91671, step = 1701 (0.239 sec)\n",
      "INFO:tensorflow:global_step/sec: 416.924\n",
      "INFO:tensorflow:loss = 1.4369, step = 1801 (0.240 sec)\n",
      "INFO:tensorflow:global_step/sec: 429.762\n",
      "INFO:tensorflow:loss = 1.02123, step = 1901 (0.232 sec)\n",
      "INFO:tensorflow:global_step/sec: 369.985\n",
      "INFO:tensorflow:loss = 0.989735, step = 2001 (0.272 sec)\n",
      "INFO:tensorflow:global_step/sec: 589.724\n",
      "INFO:tensorflow:loss = 0.351861, step = 2101 (0.170 sec)\n",
      "INFO:tensorflow:global_step/sec: 481.322\n",
      "INFO:tensorflow:loss = 0.337851, step = 2201 (0.209 sec)\n",
      "INFO:tensorflow:global_step/sec: 546.427\n",
      "INFO:tensorflow:loss = 0.921444, step = 2301 (0.180 sec)\n",
      "INFO:tensorflow:global_step/sec: 607.265\n",
      "INFO:tensorflow:loss = 0.982645, step = 2401 (0.166 sec)\n",
      "INFO:tensorflow:global_step/sec: 300.214\n",
      "INFO:tensorflow:loss = 0.840322, step = 2501 (0.331 sec)\n",
      "INFO:tensorflow:global_step/sec: 468.13\n",
      "INFO:tensorflow:loss = 0.158493, step = 2601 (0.214 sec)\n",
      "INFO:tensorflow:global_step/sec: 461.28\n",
      "INFO:tensorflow:loss = 0.314775, step = 2701 (0.219 sec)\n",
      "INFO:tensorflow:global_step/sec: 468.235\n",
      "INFO:tensorflow:loss = 1.82416, step = 2801 (0.211 sec)\n",
      "INFO:tensorflow:global_step/sec: 540.637\n",
      "INFO:tensorflow:loss = 0.449267, step = 2901 (0.189 sec)\n",
      "INFO:tensorflow:global_step/sec: 446.923\n",
      "INFO:tensorflow:loss = 0.872688, step = 3001 (0.226 sec)\n",
      "INFO:tensorflow:global_step/sec: 414.487\n",
      "INFO:tensorflow:loss = 1.34929, step = 3101 (0.238 sec)\n",
      "INFO:tensorflow:global_step/sec: 413.676\n",
      "INFO:tensorflow:loss = 0.980259, step = 3201 (0.240 sec)\n",
      "INFO:tensorflow:global_step/sec: 336.371\n",
      "INFO:tensorflow:loss = 0.407418, step = 3301 (0.296 sec)\n",
      "INFO:tensorflow:global_step/sec: 514.798\n",
      "INFO:tensorflow:loss = 0.586055, step = 3401 (0.196 sec)\n",
      "INFO:tensorflow:global_step/sec: 446.341\n",
      "INFO:tensorflow:loss = 0.846097, step = 3501 (0.222 sec)\n",
      "INFO:tensorflow:global_step/sec: 368.805\n",
      "INFO:tensorflow:loss = 0.725018, step = 3601 (0.272 sec)\n",
      "INFO:tensorflow:global_step/sec: 547.849\n",
      "INFO:tensorflow:loss = 1.55764, step = 3701 (0.184 sec)\n",
      "INFO:tensorflow:global_step/sec: 459.511\n",
      "INFO:tensorflow:loss = 0.46272, step = 3801 (0.216 sec)\n",
      "INFO:tensorflow:global_step/sec: 622.889\n",
      "INFO:tensorflow:loss = 0.815344, step = 3901 (0.162 sec)\n",
      "INFO:tensorflow:global_step/sec: 343.285\n",
      "INFO:tensorflow:loss = 0.392489, step = 4001 (0.291 sec)\n",
      "INFO:tensorflow:global_step/sec: 340.427\n",
      "INFO:tensorflow:loss = 1.32873, step = 4101 (0.294 sec)\n",
      "INFO:tensorflow:global_step/sec: 381.97\n",
      "INFO:tensorflow:loss = 1.05294, step = 4201 (0.262 sec)\n",
      "INFO:tensorflow:global_step/sec: 569.275\n",
      "INFO:tensorflow:loss = 1.62874, step = 4301 (0.176 sec)\n",
      "INFO:tensorflow:global_step/sec: 423.528\n",
      "INFO:tensorflow:loss = 0.276893, step = 4401 (0.238 sec)\n",
      "INFO:tensorflow:global_step/sec: 524.582\n",
      "INFO:tensorflow:loss = 1.05079, step = 4501 (0.187 sec)\n",
      "INFO:tensorflow:global_step/sec: 444.939\n",
      "INFO:tensorflow:loss = 0.896056, step = 4601 (0.224 sec)\n",
      "INFO:tensorflow:global_step/sec: 415.052\n",
      "INFO:tensorflow:loss = 0.411326, step = 4701 (0.240 sec)\n",
      "INFO:tensorflow:global_step/sec: 667.756\n",
      "INFO:tensorflow:loss = 0.725365, step = 4801 (0.153 sec)\n",
      "INFO:tensorflow:global_step/sec: 389.753\n",
      "INFO:tensorflow:loss = 0.597875, step = 4901 (0.256 sec)\n",
      "INFO:tensorflow:Saving checkpoints for 5000 into /var/folders/0v/n6r9lhbj7wq6yb1s86xg7_pm0000gn/T/tmpdnb9dea2/model.ckpt.\n",
      "INFO:tensorflow:Loss for final step: 1.13772.\n"
     ]
    },
    {
     "data": {
      "text/plain": [
       "<tensorflow.python.estimator.canned.dnn.DNNClassifier at 0x11af6c898>"
      ]
     },
     "execution_count": 20,
     "metadata": {},
     "output_type": "execute_result"
    }
   ],
   "source": [
    "model.train(input_fn=input_fn, steps=5000)"
   ]
  },
  {
   "cell_type": "markdown",
   "metadata": {},
   "source": [
    "# Evaluation"
   ]
  },
  {
   "cell_type": "code",
   "execution_count": 21,
   "metadata": {
    "collapsed": true
   },
   "outputs": [],
   "source": [
    "eval_input_fn = estimator.inputs.numpy_input_fn(\n",
    "    x={\n",
    "        'number_pregnant': scaled_x_test[:, 0],\n",
    "        'glucose_concentration': scaled_x_test[:, 1],\n",
    "        'blood_pressure': scaled_x_test[:, 2],\n",
    "        'triceps': scaled_x_test[:, 3],\n",
    "        'insulin': scaled_x_test[:, 4],\n",
    "        'bmi': scaled_x_test[:, 5],\n",
    "        'pedigree': scaled_x_test[:, 6],\n",
    "        'age': scaled_x_test[:, 7],\n",
    "    }, \n",
    "    y=y_test,\n",
    "    shuffle=False\n",
    ")"
   ]
  },
  {
   "cell_type": "code",
   "execution_count": 22,
   "metadata": {},
   "outputs": [
    {
     "name": "stdout",
     "output_type": "stream",
     "text": [
      "WARNING:tensorflow:Casting <dtype: 'float32'> labels to bool.\n",
      "WARNING:tensorflow:Casting <dtype: 'float32'> labels to bool.\n",
      "INFO:tensorflow:Starting evaluation at 2017-12-07-15:37:37\n",
      "INFO:tensorflow:Restoring parameters from /var/folders/0v/n6r9lhbj7wq6yb1s86xg7_pm0000gn/T/tmpdnb9dea2/model.ckpt-5000\n",
      "INFO:tensorflow:Finished evaluation at 2017-12-07-15:37:38\n",
      "INFO:tensorflow:Saving dict for global step 5000: accuracy = 0.809524, accuracy_baseline = 0.679654, auc = 0.83999, auc_precision_recall = 0.695162, average_loss = 0.448519, global_step = 5000, label/mean = 0.320346, loss = 51.804, prediction/mean = 0.346606\n"
     ]
    }
   ],
   "source": [
    "results = model.evaluate(eval_input_fn)"
   ]
  },
  {
   "cell_type": "code",
   "execution_count": 23,
   "metadata": {},
   "outputs": [
    {
     "data": {
      "text/plain": [
       "{'accuracy': 0.80952382,\n",
       " 'accuracy_baseline': 0.67965364,\n",
       " 'auc': 0.83998966,\n",
       " 'auc_precision_recall': 0.69516218,\n",
       " 'average_loss': 0.44851947,\n",
       " 'global_step': 5000,\n",
       " 'label/mean': 0.32034633,\n",
       " 'loss': 51.803997,\n",
       " 'prediction/mean': 0.34660584}"
      ]
     },
     "execution_count": 23,
     "metadata": {},
     "output_type": "execute_result"
    }
   ],
   "source": [
    "results"
   ]
  },
  {
   "cell_type": "markdown",
   "metadata": {},
   "source": [
    "# Predictions"
   ]
  },
  {
   "cell_type": "code",
   "execution_count": 24,
   "metadata": {
    "collapsed": true
   },
   "outputs": [],
   "source": [
    "pred_input_fn = estimator.inputs.numpy_input_fn(\n",
    "    x={\n",
    "        'number_pregnant': scaled_x_test[:, 0],\n",
    "        'glucose_concentration': scaled_x_test[:, 1],\n",
    "        'blood_pressure': scaled_x_test[:, 2],\n",
    "        'triceps': scaled_x_test[:, 3],\n",
    "        'insulin': scaled_x_test[:, 4],\n",
    "        'bmi': scaled_x_test[:, 5],\n",
    "        'pedigree': scaled_x_test[:, 6],\n",
    "        'age': scaled_x_test[:, 7],\n",
    "    }, \n",
    "    shuffle=False\n",
    ")"
   ]
  },
  {
   "cell_type": "code",
   "execution_count": 25,
   "metadata": {},
   "outputs": [
    {
     "name": "stdout",
     "output_type": "stream",
     "text": [
      "INFO:tensorflow:Restoring parameters from /var/folders/0v/n6r9lhbj7wq6yb1s86xg7_pm0000gn/T/tmpdnb9dea2/model.ckpt-5000\n"
     ]
    }
   ],
   "source": [
    "preds = list(model.predict(pred_input_fn))"
   ]
  },
  {
   "cell_type": "code",
   "execution_count": 26,
   "metadata": {
    "collapsed": true,
    "scrolled": true
   },
   "outputs": [],
   "source": [
    "predictions = np.array([p['class_ids'][0] for p in preds])"
   ]
  },
  {
   "cell_type": "code",
   "execution_count": 27,
   "metadata": {
    "collapsed": true
   },
   "outputs": [],
   "source": [
    "from sklearn.metrics import confusion_matrix,classification_report"
   ]
  },
  {
   "cell_type": "code",
   "execution_count": 28,
   "metadata": {},
   "outputs": [
    {
     "name": "stdout",
     "output_type": "stream",
     "text": [
      "             precision    recall  f1-score   support\n",
      "\n",
      "          0       0.84      0.89      0.86       157\n",
      "          1       0.73      0.64      0.68        74\n",
      "\n",
      "avg / total       0.81      0.81      0.81       231\n",
      "\n"
     ]
    }
   ],
   "source": [
    "print(classification_report(y_test, predictions))"
   ]
  },
  {
   "cell_type": "code",
   "execution_count": null,
   "metadata": {
    "collapsed": true
   },
   "outputs": [],
   "source": []
  }
 ],
 "metadata": {
  "kernelspec": {
   "display_name": "Python 3",
   "language": "python",
   "name": "python3"
  },
  "language_info": {
   "codemirror_mode": {
    "name": "ipython",
    "version": 3
   },
   "file_extension": ".py",
   "mimetype": "text/x-python",
   "name": "python",
   "nbconvert_exporter": "python",
   "pygments_lexer": "ipython3",
   "version": "3.6.2"
  }
 },
 "nbformat": 4,
 "nbformat_minor": 2
}
